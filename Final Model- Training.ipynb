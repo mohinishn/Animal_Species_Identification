{
 "cells": [
  {
   "cell_type": "code",
   "execution_count": 1,
   "metadata": {},
   "outputs": [
    {
     "name": "stderr",
     "output_type": "stream",
     "text": [
      "Using TensorFlow backend.\n"
     ]
    }
   ],
   "source": [
    "from keras.models import Sequential\n",
    "from keras.layers import Convolution2D\n",
    "from keras.layers import MaxPooling2D\n",
    "from keras.layers import Flatten\n",
    "from keras.layers import Dense, Dropout\n",
    "from keras import optimizers\n",
    "import matplotlib.pyplot as plt"
   ]
  },
  {
   "cell_type": "code",
   "execution_count": 5,
   "metadata": {},
   "outputs": [
    {
     "name": "stderr",
     "output_type": "stream",
     "text": [
      "C:\\Users\\Moz\\.conda\\envs\\tfkeras\\lib\\site-packages\\ipykernel_launcher.py:4: UserWarning: Update your `Conv2D` call to the Keras 2 API: `Conv2D(32, (3, 3), input_shape=(224, 224,..., activation=\"relu\")`\n",
      "  after removing the cwd from sys.path.\n",
      "C:\\Users\\Moz\\.conda\\envs\\tfkeras\\lib\\site-packages\\ipykernel_launcher.py:8: UserWarning: Update your `Conv2D` call to the Keras 2 API: `Conv2D(32, (3, 3), activation=\"relu\")`\n",
      "  \n",
      "C:\\Users\\Moz\\.conda\\envs\\tfkeras\\lib\\site-packages\\ipykernel_launcher.py:12: UserWarning: Update your `Conv2D` call to the Keras 2 API: `Conv2D(64, (3, 3), activation=\"relu\")`\n",
      "  if sys.path[0] == '':\n",
      "C:\\Users\\Moz\\.conda\\envs\\tfkeras\\lib\\site-packages\\ipykernel_launcher.py:16: UserWarning: Update your `Conv2D` call to the Keras 2 API: `Conv2D(128, (3, 3), activation=\"relu\")`\n",
      "  app.launch_new_instance()\n",
      "C:\\Users\\Moz\\.conda\\envs\\tfkeras\\lib\\site-packages\\ipykernel_launcher.py:20: UserWarning: Update your `Conv2D` call to the Keras 2 API: `Conv2D(256, (3, 3), activation=\"relu\")`\n"
     ]
    },
    {
     "name": "stdout",
     "output_type": "stream",
     "text": [
      "Found 4900 images belonging to 7 classes.\n",
      "Found 1890 images belonging to 7 classes.\n",
      "Epoch 1/25\n",
      "180/180 [==============================] - 457s 3s/step - loss: 1.9421 - acc: 0.1580 - val_loss: 1.9302 - val_acc: 0.1532\n",
      "Epoch 2/25\n",
      "180/180 [==============================] - 353s 2s/step - loss: 1.9202 - acc: 0.1997 - val_loss: 1.8716 - val_acc: 0.2982\n",
      "Epoch 3/25\n",
      "180/180 [==============================] - 346s 2s/step - loss: 1.8519 - acc: 0.2483 - val_loss: 1.7435 - val_acc: 0.3330\n",
      "Epoch 4/25\n",
      "180/180 [==============================] - 343s 2s/step - loss: 1.7195 - acc: 0.3257 - val_loss: 1.6030 - val_acc: 0.4053\n",
      "Epoch 5/25\n",
      "180/180 [==============================] - 350s 2s/step - loss: 1.6206 - acc: 0.3819 - val_loss: 1.4871 - val_acc: 0.4416\n",
      "Epoch 6/25\n",
      "180/180 [==============================] - 349s 2s/step - loss: 1.4530 - acc: 0.4613 - val_loss: 1.6181 - val_acc: 0.3755\n",
      "Epoch 7/25\n",
      "180/180 [==============================] - 357s 2s/step - loss: 1.2907 - acc: 0.5236 - val_loss: 1.1570 - val_acc: 0.5664\n",
      "Epoch 8/25\n",
      "180/180 [==============================] - 350s 2s/step - loss: 1.1903 - acc: 0.5649 - val_loss: 1.1729 - val_acc: 0.5665\n",
      "Epoch 9/25\n",
      "180/180 [==============================] - 339s 2s/step - loss: 1.1315 - acc: 0.5901 - val_loss: 1.0998 - val_acc: 0.6010\n",
      "Epoch 10/25\n",
      "180/180 [==============================] - 341s 2s/step - loss: 1.0534 - acc: 0.6181 - val_loss: 0.9312 - val_acc: 0.6542\n",
      "Epoch 11/25\n",
      "180/180 [==============================] - 346s 2s/step - loss: 1.0050 - acc: 0.6328 - val_loss: 0.8660 - val_acc: 0.6877\n",
      "Epoch 12/25\n",
      "180/180 [==============================] - 347s 2s/step - loss: 0.9425 - acc: 0.6568 - val_loss: 0.8850 - val_acc: 0.6801\n",
      "Epoch 13/25\n",
      "180/180 [==============================] - 350s 2s/step - loss: 0.8981 - acc: 0.6752 - val_loss: 0.9134 - val_acc: 0.6622\n",
      "Epoch 14/25\n",
      "180/180 [==============================] - 353s 2s/step - loss: 0.8625 - acc: 0.6938 - val_loss: 0.7659 - val_acc: 0.7338\n",
      "Epoch 15/25\n",
      "180/180 [==============================] - 336s 2s/step - loss: 0.8500 - acc: 0.7023 - val_loss: 0.8100 - val_acc: 0.7154\n",
      "Epoch 16/25\n",
      "180/180 [==============================] - 334s 2s/step - loss: 0.7794 - acc: 0.7243 - val_loss: 0.7835 - val_acc: 0.7288\n",
      "Epoch 17/25\n",
      "180/180 [==============================] - 383s 2s/step - loss: 0.7333 - acc: 0.7424 - val_loss: 0.7657 - val_acc: 0.7321\n",
      "Epoch 18/25\n",
      "180/180 [==============================] - 339s 2s/step - loss: 0.7078 - acc: 0.7516 - val_loss: 0.6413 - val_acc: 0.7761\n",
      "Epoch 19/25\n",
      "180/180 [==============================] - 335s 2s/step - loss: 0.6903 - acc: 0.7604 - val_loss: 0.6584 - val_acc: 0.7641\n",
      "Epoch 20/25\n",
      "180/180 [==============================] - 329s 2s/step - loss: 0.6344 - acc: 0.7760 - val_loss: 0.6058 - val_acc: 0.7817\n",
      "Epoch 21/25\n",
      "180/180 [==============================] - 330s 2s/step - loss: 0.6270 - acc: 0.7856 - val_loss: 0.6669 - val_acc: 0.7681\n",
      "Epoch 22/25\n",
      "180/180 [==============================] - 330s 2s/step - loss: 0.5765 - acc: 0.8002 - val_loss: 0.5490 - val_acc: 0.8164\n",
      "Epoch 23/25\n",
      "180/180 [==============================] - 334s 2s/step - loss: 0.5599 - acc: 0.8066 - val_loss: 0.6368 - val_acc: 0.7926\n",
      "Epoch 24/25\n",
      "180/180 [==============================] - 335s 2s/step - loss: 0.5246 - acc: 0.8215 - val_loss: 0.5446 - val_acc: 0.8108\n",
      "Epoch 25/25\n",
      "180/180 [==============================] - 330s 2s/step - loss: 0.5053 - acc: 0.8213 - val_loss: 0.5328 - val_acc: 0.8213\n"
     ]
    }
   ],
   "source": [
    "classifier = Sequential()\n",
    "\n",
    "#convolutional layer with input layer\n",
    "classifier.add(Convolution2D(32, 3,  3, input_shape = (224, 224, 3), activation = 'relu'))\n",
    "classifier.add(MaxPooling2D(pool_size =(2,2)))\n",
    "\n",
    "#convolutional layer with 32 newrons\n",
    "classifier.add(Convolution2D(32, 3,  3, activation = 'relu'))\n",
    "classifier.add(MaxPooling2D(pool_size =(2,2)))\n",
    "\n",
    "#convolutional layer with 64 newrons\n",
    "classifier.add(Convolution2D(64, 3,  3, activation = 'relu'))\n",
    "classifier.add(MaxPooling2D(pool_size =(2,2)))\n",
    "\n",
    "#convolutional layer with 128 newrons\n",
    "classifier.add(Convolution2D(128, 3,  3, activation = 'relu'))\n",
    "classifier.add(MaxPooling2D(pool_size =(2,2)))\n",
    "\n",
    "#convolutional layer with 256 newrons\n",
    "classifier.add(Convolution2D(256, 3,  3, activation = 'relu'))\n",
    "classifier.add(MaxPooling2D(pool_size =(2,2)))\n",
    "\n",
    "#flatten layer\n",
    "classifier.add(Flatten())\n",
    "#dense layer with 4096 newrons\n",
    "classifier.add(Dense(4096, activation = 'relu'))\n",
    "classifier.add(Dropout(0.5))\n",
    "\n",
    "#dense layer with 4096 newrons\n",
    "classifier.add(Dense(4096, activation = 'relu'))\n",
    "classifier.add(Dropout(0.5))\n",
    "\n",
    "#dense layer for classification of species. change the number as per number of species.\n",
    "#softmax function predicts probability\n",
    "classifier.add(Dense(7, activation = 'softmax'))\n",
    "\n",
    "\n",
    "classifier.compile(\n",
    "              optimizer = optimizers.SGD(lr = 0.01),\n",
    "              loss = 'categorical_crossentropy',\n",
    "              metrics = ['accuracy'])\n",
    "\t\t\t  \n",
    "#classifier.summary()\n",
    "\n",
    "from keras.preprocessing.image import ImageDataGenerator\n",
    "train_datagen = ImageDataGenerator(\n",
    "        rescale=1./255,\n",
    "        shear_range=0.2,\n",
    "        zoom_range=0.2,\n",
    "        horizontal_flip=True)\n",
    "\n",
    "test_datagen = ImageDataGenerator(rescale=1./255)\n",
    "\n",
    "training_set = train_datagen.flow_from_directory(\n",
    "        'tigersAndZebra/train',\n",
    "        target_size=(224, 224),\n",
    "        batch_size=32,\n",
    "        class_mode='categorical')\n",
    "\n",
    "test_set = test_datagen.flow_from_directory(\n",
    "        'tigersAndZebra/validation',\n",
    "        target_size=(224, 224),\n",
    "        batch_size=32,\n",
    "        class_mode='categorical')\n",
    "\n",
    "model = classifier.fit_generator(\n",
    "        training_set,\n",
    "        steps_per_epoch=180,\n",
    "        epochs=25,\n",
    "        validation_data = test_set,\n",
    "        validation_steps = 250\n",
    "      )"
   ]
  },
  {
   "cell_type": "code",
   "execution_count": 6,
   "metadata": {},
   "outputs": [],
   "source": [
    "import h5py\n",
    "classifier.save('final_model7.h5')"
   ]
  },
  {
   "cell_type": "code",
   "execution_count": 7,
   "metadata": {},
   "outputs": [
    {
     "name": "stdout",
     "output_type": "stream",
     "text": [
      "dict_keys(['val_loss', 'val_acc', 'loss', 'acc'])\n"
     ]
    }
   ],
   "source": [
    "print(model.history.keys())"
   ]
  },
  {
   "cell_type": "code",
   "execution_count": 10,
   "metadata": {},
   "outputs": [
    {
     "data": {
      "image/png": "[encoded data removed]",
      "text/plain": [
       "<Figure size 432x288 with 1 Axes>"
      ]
     },
     "metadata": {
      "needs_background": "light"
     },
     "output_type": "display_data"
    },
    {
     "data": {
      "image/png": "[encoded data removed]",
      "text/plain": [
       "<Figure size 432x288 with 1 Axes>"
      ]
     },
     "metadata": {
      "needs_background": "light"
     },
     "output_type": "display_data"
    }
   ],
   "source": [
    "plt.plot(model.history['acc'])\n",
    "plt.plot(model.history['val_acc'])\n",
    "plt.title('model accuracy')\n",
    "plt.ylabel('accuracy')\n",
    "plt.xlabel('epoch')\n",
    "plt.legend(['train', 'test'], loc='upper left')\n",
    "plt.savefig('acc-7layer.png')\n",
    "plt.show()\n",
    "\n",
    "\n",
    "plt.plot(model.history['loss'])\n",
    "plt.plot(model.history['val_loss'])\n",
    "plt.title('model loss')\n",
    "plt.ylabel('loss')\n",
    "plt.xlabel('epoch')\n",
    "plt.legend(['train', 'test'], loc='upper left')\n",
    "plt.savefig('loss-7layer.png')\n",
    "plt.show()\n"
   ]
  },
  {
   "cell_type": "code",
   "execution_count": null,
   "metadata": {},
   "outputs": [],
   "source": []
  }
 ],
 "metadata": {
  "kernelspec": {
   "display_name": "Python 3",
   "language": "python",
   "name": "python3"
  },
  "language_info": {
   "codemirror_mode": {
    "name": "ipython",
    "version": 3
   },
   "file_extension": ".py",
   "mimetype": "text/x-python",
   "name": "python",
   "nbconvert_exporter": "python",
   "pygments_lexer": "ipython3",
   "version": "3.6.8"
  }
 },
 "nbformat": 4,
 "nbformat_minor": 2
}
